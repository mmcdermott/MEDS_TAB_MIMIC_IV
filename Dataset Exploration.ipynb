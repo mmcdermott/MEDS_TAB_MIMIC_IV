{
 "cells": [
  {
   "cell_type": "code",
   "execution_count": 1,
   "id": "958bf1f8-aef9-40b6-bc14-14dde1786a30",
   "metadata": {},
   "outputs": [],
   "source": [
    "import os\n",
    "from pathlib import Path\n",
    "import polars as pl"
   ]
  },
  {
   "cell_type": "code",
   "execution_count": 4,
   "id": "dea9be42-46b5-4031-be0d-4534878e613c",
   "metadata": {},
   "outputs": [
    {
     "name": "stdout",
     "output_type": "stream",
     "text": [
      "Setting MIMICIV_RAW_DIR to /n/data1/hms/dbmi/zaklab/MIMIC-IV/raw_files/2.2\n",
      "Setting MIMICIV_PRE_MEDS_DIR to /n/data1/hms/dbmi/zaklab/MIMIC-IV/MEDS_raw_files/2.2\n",
      "Setting MIMICIV_MEDS_DIR to /n/data1/hms/dbmi/zaklab/MIMIC-IV/MEDS_compute_tests/4workers_slurm\n"
     ]
    }
   ],
   "source": [
    "for env_str in Path(\".env\").read_text().split():\n",
    "    var, val = env_str.split(\"=\")\n",
    "    print(f\"Setting {var} to {val}\")\n",
    "    os.environ[var] = val"
   ]
  },
  {
   "cell_type": "code",
   "execution_count": 9,
   "id": "be781ee4-e464-44c2-8708-59492e08c6cf",
   "metadata": {},
   "outputs": [],
   "source": [
    "MEDS_dir = Path(os.environ[\"MIMICIV_MEDS_DIR\"])\n",
    "MEDS_final_cohort = MEDS_dir / \"final_cohort\"\n",
    "shards = [str(fp.relative_to(MEDS_final_cohort)) for fp in MEDS_final_cohort.glob(\"**/*.parquet\")]\n",
    "train_shards = [s for s in shards if s.startswith(\"train/\")]"
   ]
  },
  {
   "cell_type": "code",
   "execution_count": 20,
   "id": "b2f9a1ca-6000-4d1c-8f36-c92319f5eff5",
   "metadata": {},
   "outputs": [
    {
     "name": "stdout",
     "output_type": "stream",
     "text": [
      "CPU times: user 1min 17s, sys: 14.9 s, total: 1min 32s\n",
      "Wall time: 15.8 s\n"
     ]
    }
   ],
   "source": [
    "%%time\n",
    "code_df = None\n",
    "for s in train_shards:\n",
    "    df = (\n",
    "        pl.scan_parquet(MEDS_final_cohort / s)\n",
    "        .drop_nulls(subset=\"code\")\n",
    "        .group_by(\"code\")\n",
    "        .agg(pl.col(\"patient_id\").n_unique().alias(\"n_patients\"), pl.len().alias(\"n_occurrences\"))\n",
    "    )\n",
    "\n",
    "    if df.select(pl.col(\"code\").is_null().any()).collect().item():\n",
    "        raise ValueError\n",
    "\n",
    "    if code_df is None: code_df = df\n",
    "    else:\n",
    "        code_df = (\n",
    "            code_df\n",
    "            .join(df, suffix=\"_right\", on=\"code\", how=\"outer\")\n",
    "            .select(\n",
    "                pl.coalesce(\"code\", \"code_right\").alias(\"code\"),\n",
    "                (pl.col(\"n_patients\").fill_null(0) + pl.col(\"n_patients_right\").fill_null(0)).alias(\"n_patients\"),\n",
    "                (pl.col(\"n_occurrences\").fill_null(0) + pl.col(\"n_occurrences_right\").fill_null(0)).alias(\"n_occurrences\"),\n",
    "            )\n",
    "        )\n",
    "\n",
    "code_df = code_df.collect()"
   ]
  },
  {
   "cell_type": "code",
   "execution_count": 25,
   "id": "0906f88e-ac9c-4e1c-b122-54644428354b",
   "metadata": {},
   "outputs": [],
   "source": [
    "code_df = code_df.filter(pl.col(\"n_patients\") > 10).sort(\"n_occurrences\", descending=True)"
   ]
  },
  {
   "cell_type": "code",
   "execution_count": 26,
   "id": "05538572-980e-4bae-8160-d56ab4173666",
   "metadata": {},
   "outputs": [
    {
     "data": {
      "text/html": [
       "<div><style>\n",
       ".dataframe > thead > tr,\n",
       ".dataframe > tbody > tr {\n",
       "  text-align: right;\n",
       "  white-space: pre-wrap;\n",
       "}\n",
       "</style>\n",
       "<small>shape: (25_425, 3)</small><table border=\"1\" class=\"dataframe\"><thead><tr><th>code</th><th>n_patients</th><th>n_occurrences</th></tr><tr><td>cat</td><td>i64</td><td>i64</td></tr></thead><tbody><tr><td>&quot;LAB//227969//U…</td><td>38278</td><td>7048858</td></tr><tr><td>&quot;LAB//220045//b…</td><td>40806</td><td>5192096</td></tr><tr><td>&quot;LAB//220210//i…</td><td>40770</td><td>5137587</td></tr><tr><td>&quot;LAB//220277//%…</td><td>40775</td><td>5082797</td></tr><tr><td>&quot;LAB//220048//U…</td><td>40629</td><td>4746037</td></tr><tr><td>&hellip;</td><td>&hellip;</td><td>&hellip;</td></tr><tr><td>&quot;PROCEDURE//ICD…</td><td>11</td><td>11</td></tr><tr><td>&quot;PROCEDURE//ICD…</td><td>11</td><td>11</td></tr><tr><td>&quot;DIAGNOSIS//ICD…</td><td>11</td><td>11</td></tr><tr><td>&quot;DIAGNOSIS//ICD…</td><td>11</td><td>11</td></tr><tr><td>&quot;DIAGNOSIS//ICD…</td><td>11</td><td>11</td></tr></tbody></table></div>"
      ],
      "text/plain": [
       "shape: (25_425, 3)\n",
       "┌───────────────────────────┬────────────┬───────────────┐\n",
       "│ code                      ┆ n_patients ┆ n_occurrences │\n",
       "│ ---                       ┆ ---        ┆ ---           │\n",
       "│ cat                       ┆ i64        ┆ i64           │\n",
       "╞═══════════════════════════╪════════════╪═══════════════╡\n",
       "│ LAB//227969//UNK          ┆ 38278      ┆ 7048858       │\n",
       "│ LAB//220045//bpm          ┆ 40806      ┆ 5192096       │\n",
       "│ LAB//220210//insp/min     ┆ 40770      ┆ 5137587       │\n",
       "│ LAB//220277//%            ┆ 40775      ┆ 5082797       │\n",
       "│ LAB//220048//UNK          ┆ 40629      ┆ 4746037       │\n",
       "│ …                         ┆ …          ┆ …             │\n",
       "│ PROCEDURE//ICD//9//5789   ┆ 11         ┆ 11            │\n",
       "│ PROCEDURE//ICD//9//3773   ┆ 11         ┆ 11            │\n",
       "│ DIAGNOSIS//ICD//9//66431  ┆ 11         ┆ 11            │\n",
       "│ DIAGNOSIS//ICD//10//Z8371 ┆ 11         ┆ 11            │\n",
       "│ DIAGNOSIS//ICD//9//30543  ┆ 11         ┆ 11            │\n",
       "└───────────────────────────┴────────────┴───────────────┘"
      ]
     },
     "execution_count": 26,
     "metadata": {},
     "output_type": "execute_result"
    }
   ],
   "source": [
    "code_df"
   ]
  },
  {
   "cell_type": "code",
   "execution_count": 28,
   "id": "c5eb63a5-e885-4836-b852-b7a27908a5d9",
   "metadata": {},
   "outputs": [],
   "source": [
    "code_strs = code_df[\"code\"].to_list()"
   ]
  },
  {
   "cell_type": "code",
   "execution_count": 63,
   "id": "d0d5d47a-9250-4604-9060-15db7cbc8717",
   "metadata": {},
   "outputs": [],
   "source": [
    "hosp_admit_codes = [c for c in code_strs if c.startswith(\"HOSPITAL_ADMISSION//\")]\n",
    "icu_admit_codes = [c for c in code_strs if c.startswith(\"ICU_ADMISSION//\")]\n",
    "hosp_disch_codes = [c for c in code_strs if c.startswith(\"HOSPITAL_DISCHARGE//\")]\n",
    "icu_disch_codes = [c for c in code_strs if c.startswith(\"ICU_DISCHARGE//\")]\n",
    "death_code = \"DEATH\""
   ]
  },
  {
   "cell_type": "code",
   "execution_count": 55,
   "id": "1f9a93b4-ad9f-4701-8cc5-12a2f653b803",
   "metadata": {},
   "outputs": [],
   "source": [
    "import string\n",
    "\n",
    "def make_plain_predicate(code: str, i: int) -> str:\n",
    "    pred_name = f\"{code.split('//')[0].lower()}_{i}\"\n",
    "    return \"\\n\".join([f\"  {pred_name}:\", f\"    code: {code}\"])\n",
    "def make_or_predicate(codes: str, pred_name: str) -> str:\n",
    "    codes_as_preds = [f\"{c.split('//')[0].lower()}_{i}\" for i, c in enumerate(codes)]\n",
    "    return \"\\n\".join([f\"  {pred_name}:\", f\"    or({','.join(codes_as_preds)})\"])\n"
   ]
  },
  {
   "cell_type": "markdown",
   "id": "00a6d0a5-f14c-4222-819e-759963053ad9",
   "metadata": {},
   "source": [
    "## Hospital Admission"
   ]
  },
  {
   "cell_type": "code",
   "execution_count": 59,
   "id": "8c635288-a2c4-41f9-8acd-3619300a2207",
   "metadata": {
    "scrolled": true
   },
   "outputs": [
    {
     "name": "stdout",
     "output_type": "stream",
     "text": [
      "  hospital_admission_0:\n",
      "    code: HOSPITAL_ADMISSION//EW EMER.//EMERGENCY ROOM\n",
      "  hospital_admission_1:\n",
      "    code: HOSPITAL_ADMISSION//EU OBSERVATION//EMERGENCY ROOM\n",
      "  hospital_admission_2:\n",
      "    code: HOSPITAL_ADMISSION//SURGICAL SAME DAY ADMISSION//PHYSICIAN REFERRAL\n",
      "  hospital_admission_3:\n",
      "    code: HOSPITAL_ADMISSION//OBSERVATION ADMIT//EMERGENCY ROOM\n",
      "  hospital_admission_4:\n",
      "    code: HOSPITAL_ADMISSION//URGENT//TRANSFER FROM HOSPITAL\n",
      "  hospital_admission_5:\n",
      "    code: HOSPITAL_ADMISSION//URGENT//PHYSICIAN REFERRAL\n",
      "  hospital_admission_6:\n",
      "    code: HOSPITAL_ADMISSION//DIRECT EMER.//PHYSICIAN REFERRAL\n",
      "  hospital_admission_7:\n",
      "    code: HOSPITAL_ADMISSION//OBSERVATION ADMIT//PHYSICIAN REFERRAL\n",
      "  hospital_admission_8:\n",
      "    code: HOSPITAL_ADMISSION//DIRECT OBSERVATION//PHYSICIAN REFERRAL\n",
      "  hospital_admission_9:\n",
      "    code: HOSPITAL_ADMISSION//ELECTIVE//PHYSICIAN REFERRAL\n",
      "  hospital_admission_10:\n",
      "    code: HOSPITAL_ADMISSION//EU OBSERVATION//PHYSICIAN REFERRAL\n",
      "  hospital_admission_11:\n",
      "    code: HOSPITAL_ADMISSION//OBSERVATION ADMIT//TRANSFER FROM HOSPITAL\n",
      "  hospital_admission_12:\n",
      "    code: HOSPITAL_ADMISSION//OBSERVATION ADMIT//WALK-IN/SELF REFERRAL\n",
      "  hospital_admission_13:\n",
      "    code: HOSPITAL_ADMISSION//DIRECT EMER.//CLINIC REFERRAL\n",
      "  hospital_admission_14:\n",
      "    code: HOSPITAL_ADMISSION//EU OBSERVATION//WALK-IN/SELF REFERRAL\n",
      "  hospital_admission_15:\n",
      "    code: HOSPITAL_ADMISSION//EW EMER.//TRANSFER FROM HOSPITAL\n",
      "  hospital_admission_16:\n",
      "    code: HOSPITAL_ADMISSION//EW EMER.//PHYSICIAN REFERRAL\n",
      "  hospital_admission_17:\n",
      "    code: HOSPITAL_ADMISSION//AMBULATORY OBSERVATION//PROCEDURE SITE\n",
      "  hospital_admission_18:\n",
      "    code: HOSPITAL_ADMISSION//URGENT//INTERNAL TRANSFER TO OR FROM PSYCH\n",
      "  hospital_admission_19:\n",
      "    code: HOSPITAL_ADMISSION//EW EMER.//PROCEDURE SITE\n",
      "  hospital_admission_20:\n",
      "    code: HOSPITAL_ADMISSION//EW EMER.//WALK-IN/SELF REFERRAL\n",
      "  hospital_admission_21:\n",
      "    code: HOSPITAL_ADMISSION//AMBULATORY OBSERVATION//PACU\n",
      "  hospital_admission_22:\n",
      "    code: HOSPITAL_ADMISSION//EW EMER.//PACU\n",
      "  hospital_admission_23:\n",
      "    code: HOSPITAL_ADMISSION//OBSERVATION ADMIT//CLINIC REFERRAL\n",
      "  hospital_admission_24:\n",
      "    code: HOSPITAL_ADMISSION//DIRECT OBSERVATION//TRANSFER FROM HOSPITAL\n",
      "  hospital_admission_25:\n",
      "    code: HOSPITAL_ADMISSION//URGENT//TRANSFER FROM SKILLED NURSING FACILITY\n",
      "  hospital_admission_26:\n",
      "    code: HOSPITAL_ADMISSION//EU OBSERVATION//TRANSFER FROM HOSPITAL\n",
      "  hospital_admission_27:\n",
      "    code: HOSPITAL_ADMISSION//DIRECT OBSERVATION//CLINIC REFERRAL\n",
      "  hospital_admission_28:\n",
      "    code: HOSPITAL_ADMISSION//OBSERVATION ADMIT//TRANSFER FROM SKILLED NURSING FACILITY\n",
      "  hospital_admission_29:\n",
      "    code: HOSPITAL_ADMISSION//DIRECT OBSERVATION//EMERGENCY ROOM\n",
      "  hospital_admission_30:\n",
      "    code: HOSPITAL_ADMISSION//DIRECT OBSERVATION//WALK-IN/SELF REFERRAL\n",
      "  hospital_admission_31:\n",
      "    code: HOSPITAL_ADMISSION//EU OBSERVATION//CLINIC REFERRAL\n",
      "  hospital_admission_32:\n",
      "    code: HOSPITAL_ADMISSION//EW EMER.//TRANSFER FROM SKILLED NURSING FACILITY\n",
      "  hospital_admission_33:\n",
      "    code: HOSPITAL_ADMISSION//EW EMER.//INTERNAL TRANSFER TO OR FROM PSYCH\n",
      "  hospital_admission_34:\n",
      "    code: HOSPITAL_ADMISSION//URGENT//WALK-IN/SELF REFERRAL\n",
      "  hospital_admission_35:\n",
      "    code: HOSPITAL_ADMISSION//DIRECT OBSERVATION//TRANSFER FROM SKILLED NURSING FACILITY\n",
      "  hospital_admission_36:\n",
      "    code: HOSPITAL_ADMISSION//EW EMER.//CLINIC REFERRAL\n",
      "  hospital_admission_37:\n",
      "    code: HOSPITAL_ADMISSION//OBSERVATION ADMIT//PROCEDURE SITE\n",
      "  hospital_admission_38:\n",
      "    code: HOSPITAL_ADMISSION//DIRECT OBSERVATION//PROCEDURE SITE\n",
      "  hospital_admission_39:\n",
      "    code: HOSPITAL_ADMISSION//EU OBSERVATION//TRANSFER FROM SKILLED NURSING FACILITY\n",
      "  hospital_admission_40:\n",
      "    code: HOSPITAL_ADMISSION//URGENT//CLINIC REFERRAL\n",
      "  hospital_admission_41:\n",
      "    code: HOSPITAL_ADMISSION//EW EMER.//INFORMATION NOT AVAILABLE\n",
      "  hospital_admission_42:\n",
      "    code: HOSPITAL_ADMISSION//URGENT//PROCEDURE SITE\n",
      "  hospital_admission_43:\n",
      "    code: HOSPITAL_ADMISSION//OBSERVATION ADMIT//INTERNAL TRANSFER TO OR FROM PSYCH\n",
      "  hospital_admission_44:\n",
      "    code: HOSPITAL_ADMISSION//URGENT//EMERGENCY ROOM\n",
      "  hospital_admission_45:\n",
      "    code: HOSPITAL_ADMISSION//DIRECT OBSERVATION//PACU\n",
      "  hospital_admission_46:\n",
      "    code: HOSPITAL_ADMISSION//OBSERVATION ADMIT//PACU\n",
      "  hospital_admission_47:\n",
      "    code: HOSPITAL_ADMISSION//OBSERVATION ADMIT//AMBULATORY SURGERY TRANSFER\n",
      "  hospital_admission_48:\n",
      "    code: HOSPITAL_ADMISSION//OBSERVATION ADMIT//INFORMATION NOT AVAILABLE\n",
      "  hospital_admission_49:\n",
      "    code: HOSPITAL_ADMISSION//DIRECT OBSERVATION//INFORMATION NOT AVAILABLE\n",
      "  hospital_admission_50:\n",
      "    code: HOSPITAL_ADMISSION//URGENT//PACU\n",
      "  hospital_admission_51:\n",
      "    code: HOSPITAL_ADMISSION//EW EMER.//AMBULATORY SURGERY TRANSFER\n",
      "  hospital_admission_52:\n",
      "    code: HOSPITAL_ADMISSION//DIRECT OBSERVATION//INTERNAL TRANSFER TO OR FROM PSYCH\n",
      "  hospital_admission_53:\n",
      "    code: HOSPITAL_ADMISSION//URGENT//AMBULATORY SURGERY TRANSFER\n",
      "  hospital_admission_54:\n",
      "    code: HOSPITAL_ADMISSION//SURGICAL SAME DAY ADMISSION//TRANSFER FROM SKILLED NURSING FACILITY\n",
      "  hospital_admission_55:\n",
      "    code: HOSPITAL_ADMISSION//EU OBSERVATION//INFORMATION NOT AVAILABLE\n",
      "  hospital_admission_56:\n",
      "    code: HOSPITAL_ADMISSION//URGENT//INFORMATION NOT AVAILABLE\n",
      "  hospital_admission_57:\n",
      "    code: HOSPITAL_ADMISSION//EU OBSERVATION//AMBULATORY SURGERY TRANSFER\n",
      "  hospital_admission_58:\n",
      "    code: HOSPITAL_ADMISSION//SURGICAL SAME DAY ADMISSION//TRANSFER FROM HOSPITAL\n",
      "  hospital_admission:\n",
      "    or(hospital_admission_0,hospital_admission_1,hospital_admission_2,hospital_admission_3,hospital_admission_4,hospital_admission_5,hospital_admission_6,hospital_admission_7,hospital_admission_8,hospital_admission_9,hospital_admission_10,hospital_admission_11,hospital_admission_12,hospital_admission_13,hospital_admission_14,hospital_admission_15,hospital_admission_16,hospital_admission_17,hospital_admission_18,hospital_admission_19,hospital_admission_20,hospital_admission_21,hospital_admission_22,hospital_admission_23,hospital_admission_24,hospital_admission_25,hospital_admission_26,hospital_admission_27,hospital_admission_28,hospital_admission_29,hospital_admission_30,hospital_admission_31,hospital_admission_32,hospital_admission_33,hospital_admission_34,hospital_admission_35,hospital_admission_36,hospital_admission_37,hospital_admission_38,hospital_admission_39,hospital_admission_40,hospital_admission_41,hospital_admission_42,hospital_admission_43,hospital_admission_44,hospital_admission_45,hospital_admission_46,hospital_admission_47,hospital_admission_48,hospital_admission_49,hospital_admission_50,hospital_admission_51,hospital_admission_52,hospital_admission_53,hospital_admission_54,hospital_admission_55,hospital_admission_56,hospital_admission_57,hospital_admission_58)\n"
     ]
    }
   ],
   "source": [
    "for i, code in enumerate(hosp_admit_codes):\n",
    "    print(make_plain_predicate(code, i))\n",
    "print(make_or_predicate(hosp_admit_codes, \"hospital_admission\"))"
   ]
  },
  {
   "cell_type": "markdown",
   "id": "aa502c43-15f5-4f10-91f1-d49b7ab787b3",
   "metadata": {},
   "source": [
    "## Hospital Discharge"
   ]
  },
  {
   "cell_type": "code",
   "execution_count": 61,
   "id": "22667ce1-1f83-40ed-b0ff-516d61def7d0",
   "metadata": {},
   "outputs": [
    {
     "name": "stdout",
     "output_type": "stream",
     "text": [
      "  hospital_discharge_0:\n",
      "    code: HOSPITAL_DISCHARGE//HOME\n",
      "  hospital_discharge_1:\n",
      "    code: HOSPITAL_DISCHARGE//UNK\n",
      "  hospital_discharge_2:\n",
      "    code: HOSPITAL_DISCHARGE//HOME HEALTH CARE\n",
      "  hospital_discharge_3:\n",
      "    code: HOSPITAL_DISCHARGE//SKILLED NURSING FACILITY\n",
      "  hospital_discharge_4:\n",
      "    code: HOSPITAL_DISCHARGE//REHAB\n",
      "  hospital_discharge_5:\n",
      "    code: HOSPITAL_DISCHARGE//DIED\n",
      "  hospital_discharge_6:\n",
      "    code: HOSPITAL_DISCHARGE//CHRONIC/LONG TERM ACUTE CARE\n",
      "  hospital_discharge_7:\n",
      "    code: HOSPITAL_DISCHARGE//HOSPICE\n",
      "  hospital_discharge_8:\n",
      "    code: HOSPITAL_DISCHARGE//AGAINST ADVICE\n",
      "  hospital_discharge_9:\n",
      "    code: HOSPITAL_DISCHARGE//PSYCH FACILITY\n",
      "  hospital_discharge_10:\n",
      "    code: HOSPITAL_DISCHARGE//ACUTE HOSPITAL\n",
      "  hospital_discharge_11:\n",
      "    code: HOSPITAL_DISCHARGE//OTHER FACILITY\n",
      "  hospital_discharge_12:\n",
      "    code: HOSPITAL_DISCHARGE//ASSISTED LIVING\n",
      "  hospital_discharge_13:\n",
      "    code: HOSPITAL_DISCHARGE//HEALTHCARE FACILITY\n",
      "  hospital_discharge:\n",
      "    or(hospital_discharge_0,hospital_discharge_1,hospital_discharge_2,hospital_discharge_3,hospital_discharge_4,hospital_discharge_5,hospital_discharge_6,hospital_discharge_7,hospital_discharge_8,hospital_discharge_9,hospital_discharge_10,hospital_discharge_11,hospital_discharge_12,hospital_discharge_13)\n"
     ]
    }
   ],
   "source": [
    "for i, code in enumerate(hosp_disch_codes):\n",
    "    print(make_plain_predicate(code, i))\n",
    "print(make_or_predicate(hosp_disch_codes, \"hospital_discharge\"))"
   ]
  },
  {
   "cell_type": "markdown",
   "id": "2a379391-ebdf-4d3f-bcf9-ba649808308a",
   "metadata": {},
   "source": [
    "## ICU Admission"
   ]
  },
  {
   "cell_type": "code",
   "execution_count": 65,
   "id": "5bf88d69-d076-4a09-9f7d-d5d44143cce0",
   "metadata": {},
   "outputs": [
    {
     "name": "stdout",
     "output_type": "stream",
     "text": [
      "  icu_admission_0:\n",
      "    code: ICU_ADMISSION//Medical Intensive Care Unit (MICU)\n",
      "  icu_admission_1:\n",
      "    code: ICU_ADMISSION//Medical/Surgical Intensive Care Unit (MICU/SICU)\n",
      "  icu_admission_2:\n",
      "    code: ICU_ADMISSION//Cardiac Vascular Intensive Care Unit (CVICU)\n",
      "  icu_admission_3:\n",
      "    code: ICU_ADMISSION//Surgical Intensive Care Unit (SICU)\n",
      "  icu_admission_4:\n",
      "    code: ICU_ADMISSION//Trauma SICU (TSICU)\n",
      "  icu_admission_5:\n",
      "    code: ICU_ADMISSION//Coronary Care Unit (CCU)\n",
      "  icu_admission_6:\n",
      "    code: ICU_ADMISSION//Neuro Intermediate\n",
      "  icu_admission_7:\n",
      "    code: ICU_ADMISSION//Neuro Surgical Intensive Care Unit (Neuro SICU)\n",
      "  icu_admission_8:\n",
      "    code: ICU_ADMISSION//Neuro Stepdown\n",
      "  icu_admission:\n",
      "    or(icu_admission_0,icu_admission_1,icu_admission_2,icu_admission_3,icu_admission_4,icu_admission_5,icu_admission_6,icu_admission_7,icu_admission_8)\n"
     ]
    }
   ],
   "source": [
    "for i, code in enumerate(icu_admit_codes):\n",
    "    print(make_plain_predicate(code, i))\n",
    "print(make_or_predicate(icu_admit_codes, \"icu_admission\"))"
   ]
  },
  {
   "cell_type": "markdown",
   "id": "d8a20384-4212-4db7-b696-f48dd6226c45",
   "metadata": {},
   "source": [
    "## ICU Discharge"
   ]
  },
  {
   "cell_type": "code",
   "execution_count": 64,
   "id": "aef396f4-7814-42cb-b4b0-5738bdc1ad86",
   "metadata": {},
   "outputs": [
    {
     "name": "stdout",
     "output_type": "stream",
     "text": [
      "  icu_discharge_0:\n",
      "    code: ICU_DISCHARGE//Medical Intensive Care Unit (MICU)\n",
      "  icu_discharge_1:\n",
      "    code: ICU_DISCHARGE//Medical/Surgical Intensive Care Unit (MICU/SICU)\n",
      "  icu_discharge_2:\n",
      "    code: ICU_DISCHARGE//Cardiac Vascular Intensive Care Unit (CVICU)\n",
      "  icu_discharge_3:\n",
      "    code: ICU_DISCHARGE//Surgical Intensive Care Unit (SICU)\n",
      "  icu_discharge_4:\n",
      "    code: ICU_DISCHARGE//Coronary Care Unit (CCU)\n",
      "  icu_discharge_5:\n",
      "    code: ICU_DISCHARGE//Trauma SICU (TSICU)\n",
      "  icu_discharge_6:\n",
      "    code: ICU_DISCHARGE//Neuro Intermediate\n",
      "  icu_discharge_7:\n",
      "    code: ICU_DISCHARGE//Neuro Stepdown\n",
      "  icu_discharge_8:\n",
      "    code: ICU_DISCHARGE//Neuro Surgical Intensive Care Unit (Neuro SICU)\n",
      "  icu_discharge:\n",
      "    or(icu_discharge_0,icu_discharge_1,icu_discharge_2,icu_discharge_3,icu_discharge_4,icu_discharge_5,icu_discharge_6,icu_discharge_7,icu_discharge_8)\n"
     ]
    }
   ],
   "source": [
    "for i, code in enumerate(icu_disch_codes):\n",
    "    print(make_plain_predicate(code, i))\n",
    "print(make_or_predicate(icu_disch_codes, \"icu_discharge\"))"
   ]
  },
  {
   "cell_type": "markdown",
   "id": "1a1d3e8a-f576-43ff-9e6f-c6b1969c8d13",
   "metadata": {},
   "source": [
    "## Death"
   ]
  },
  {
   "cell_type": "code",
   "execution_count": 60,
   "id": "e473c83a-35cc-4a84-93b5-e3c1bfc83ac4",
   "metadata": {},
   "outputs": [
    {
     "name": "stdout",
     "output_type": "stream",
     "text": [
      "  death:\n",
      "    code: DEATH\n"
     ]
    }
   ],
   "source": [
    "print(\"  death:\\n    code: DEATH\")"
   ]
  },
  {
   "cell_type": "code",
   "execution_count": null,
   "id": "1c3e47c6-c38b-4863-baab-b2af48c7fef7",
   "metadata": {},
   "outputs": [],
   "source": []
  }
 ],
 "metadata": {
  "kernelspec": {
   "display_name": "Python 3 (ipykernel)",
   "language": "python",
   "name": "python3"
  },
  "language_info": {
   "codemirror_mode": {
    "name": "ipython",
    "version": 3
   },
   "file_extension": ".py",
   "mimetype": "text/x-python",
   "name": "python",
   "nbconvert_exporter": "python",
   "pygments_lexer": "ipython3",
   "version": "3.12.3"
  }
 },
 "nbformat": 4,
 "nbformat_minor": 5
}
